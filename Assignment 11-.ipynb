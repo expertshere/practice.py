{
 "cells": [
  {
   "cell_type": "code",
   "execution_count": 4,
   "id": "31f73ca7",
   "metadata": {},
   "outputs": [
    {
     "name": "stdout",
     "output_type": "stream",
     "text": [
      "enter the number:6\n",
      "positive number\n"
     ]
    }
   ],
   "source": [
    "num=int(input(\"enter the number:\"))\n",
    "if num >0:\n",
    "    print(\"positive number\")\n",
    "elif num <0:\n",
    "    print(\"negative number\")\n",
    "else:\n",
    "    print(\"zero\")"
   ]
  },
  {
   "cell_type": "code",
   "execution_count": 8,
   "id": "194d4512",
   "metadata": {},
   "outputs": [
    {
     "name": "stdout",
     "output_type": "stream",
     "text": [
      "enter the age:18\n",
      "you are teenager\n"
     ]
    }
   ],
   "source": [
    "age=int(input(\"enter the age:\"))\n",
    "if age <13:\n",
    "    print(\"you are child\")\n",
    "elif age >12 and age< 20:\n",
    "    print(\"you are teenager\")\n",
    "elif age <65:\n",
    "    print(\"you are adult\")\n",
    "else:\n",
    "    print(\"you are srnior\")"
   ]
  },
  {
   "cell_type": "code",
   "execution_count": 10,
   "id": "073f2ec3",
   "metadata": {},
   "outputs": [
    {
     "name": "stdout",
     "output_type": "stream",
     "text": [
      "enter the num1:2\n",
      "enter the num2:7\n",
      "num2 is larger\n"
     ]
    }
   ],
   "source": [
    "num1=int(input(\"enter the num1:\"))\n",
    "num2=int(input(\"enter the num2:\"))\n",
    "if num1 > num2:\n",
    "    print(\"num1 is larger number\")\n",
    "else:\n",
    "    print(\"num2 is larger\")"
   ]
  },
  {
   "cell_type": "code",
   "execution_count": 11,
   "id": "edc7578d",
   "metadata": {},
   "outputs": [
    {
     "name": "stdout",
     "output_type": "stream",
     "text": [
      "enter the year:2005\n",
      "2005  is not a leap year\n"
     ]
    }
   ],
   "source": [
    "year=int(input(\"enter the year:\"))\n",
    "if year % 400==0 and year % 100==0:\n",
    "    print(year,\"year is leap year\")\n",
    "if year %4==0 and year % 100==0:\n",
    "    print(year,\"is a leap year\")\n",
    "else:\n",
    "    print(year,\" is not a leap year\")"
   ]
  },
  {
   "cell_type": "code",
   "execution_count": 14,
   "id": "bbd8abb1",
   "metadata": {},
   "outputs": [
    {
     "name": "stdout",
     "output_type": "stream",
     "text": [
      "enter the num1:6\n",
      "enter the num2:4\n",
      "enter the num3:2\n",
      "maximun number 6\n",
      "minimum number 2\n"
     ]
    }
   ],
   "source": [
    "num1=int(input(\"enter the num1:\"))\n",
    "num2=int(input(\"enter the num2:\"))\n",
    "num3=int(input(\"enter the num3:\"))\n",
    "max_num=num1\n",
    "min_num=num1\n",
    "if num2 > max_num:\n",
    "    max_num = num2\n",
    "if num3 > max_num:\n",
    "    max_num=num3\n",
    "if num2<min_num:\n",
    "    min_num=num2\n",
    "if num3<min_num:\n",
    "    min_num=num3\n",
    "print(\"maximun number\",max_num)\n",
    "print(\"minimum number\",min_num)\n",
    "    "
   ]
  },
  {
   "cell_type": "code",
   "execution_count": 18,
   "id": "97b4ede2",
   "metadata": {},
   "outputs": [
    {
     "name": "stdout",
     "output_type": "stream",
     "text": [
      "enter your exam score:88\n",
      "you got B grade\n"
     ]
    }
   ],
   "source": [
    "score=int(input(\"enter your exam score:\"))\n",
    "if score >90 and score < 100:\n",
    "    print(\"you got A grade\")\n",
    "elif score >80 and score < 89:\n",
    "    print(\"you got B grade\")\n",
    "elif score > 70 and score < 79:\n",
    "    print(\"you got C grade\")\n",
    "elif score > 60 and score < 69:\n",
    "    print(\"you got D grade\")\n",
    "else:\n",
    "    print (\"you got F grade\")"
   ]
  },
  {
   "cell_type": "code",
   "execution_count": 23,
   "id": "6d2db248",
   "metadata": {},
   "outputs": [
    {
     "name": "stdout",
     "output_type": "stream",
     "text": [
      "enter the unit price of item:4000\n",
      "enter the quantity of items:2\n",
      "7200.0\n"
     ]
    }
   ],
   "source": [
    "#simple practical problems\n",
    "# 1)\n",
    "unit_price=int(input(\"enter the unit price of item:\"))\n",
    "quantity=int(input(\"enter the quantity of items:\"))\n",
    "total_cost=(unit_price*quantity)\n",
    "if total_cost > 1000:\n",
    "    discount=total_cost*0.9\n",
    "print(discount)"
   ]
  },
  {
   "cell_type": "code",
   "execution_count": 27,
   "id": "397af75a",
   "metadata": {},
   "outputs": [
    {
     "name": "stdout",
     "output_type": "stream",
     "text": [
      "enter the temprature in celsius:12\n",
      "you should wear a jacket\n"
     ]
    }
   ],
   "source": [
    "# 2)\n",
    "temp=int(input(\"enter the temprature in celsius:\"))\n",
    "if temp <20 :\n",
    "    print(\"you should wear a jacket\")\n",
    "else:\n",
    "    print(\"no need of wearing warm clothes\")"
   ]
  },
  {
   "cell_type": "code",
   "execution_count": 4,
   "id": "88a16fbe",
   "metadata": {},
   "outputs": [
    {
     "name": "stdout",
     "output_type": "stream",
     "text": [
      "enter the side of triangle:40\n",
      "enter the side of triangle:40\n",
      "enter the side of triangle:30\n",
      "its isosceles\n"
     ]
    }
   ],
   "source": [
    "#3)\n",
    "side1=int(input(\"enter the side of triangle:\"))\n",
    "side2=int(input(\"enter the side of triangle:\"))\n",
    "side3=int(input(\"enter the side of triangle:\"))\n",
    "if side1 == side2 == side3:\n",
    "    print(\"its equilateral\")\n",
    "elif side1 == side2 or  side1==side3 or side2==side3:\n",
    "    print(\"its isosceles\")\n",
    "else:\n",
    "    print(\"its scalene\")\n",
    "    "
   ]
  },
  {
   "cell_type": "code",
   "execution_count": 2,
   "id": "4469ac1a",
   "metadata": {},
   "outputs": [
    {
     "name": "stdout",
     "output_type": "stream",
     "text": [
      "please enter the PIN:238\n",
      "you can with drawl money\n"
     ]
    }
   ],
   "source": [
    "PIN = 238\n",
    "balance = 10000\n",
    "users_PIN=int(input(\"please enter the PIN:\"))\n",
    "withdrwal_mon\n",
    "if PIN == users_PIN and  balance > 100:\n",
    "    print(\"you can with drawl money\")\n",
    "else:\n",
    "    print(\"retry\")\n"
   ]
  },
  {
   "cell_type": "code",
   "execution_count": 10,
   "id": "974003e7",
   "metadata": {},
   "outputs": [
    {
     "name": "stdout",
     "output_type": "stream",
     "text": [
      "enter the month as a number:2\n",
      "num of days in month is 28\n"
     ]
    }
   ],
   "source": [
    "month=int(input(\"enter the month as a number:\"))\n",
    "if month ==2:\n",
    "    print(\"num of days in month is 28\")\n",
    "elif month in [4,6,9,11]:\n",
    "    print(\"num of days in month is 30\")\n",
    "else:\n",
    "    print(\"num of days in month is 31\")"
   ]
  },
  {
   "cell_type": "code",
   "execution_count": 11,
   "id": "70631cea",
   "metadata": {},
   "outputs": [
    {
     "name": "stdout",
     "output_type": "stream",
     "text": [
      "enter the year:2021\n",
      "enter the month:6\n",
      "There are 30 days in 6/2021.\n"
     ]
    }
   ],
   "source": [
    "year=int(input(\"enter the year:\"))\n",
    "month=int(input(\"enter the month:\"))\n",
    "if month < 1 or month > 12:\n",
    "    print(\"Invalid month input\")\n",
    "else:\n",
    "    if month == 2:\n",
    "        if year % 4 == 0 and (year % 100 != 0 or year % 400 == 0):\n",
    "            days_in_month = 29\n",
    "        else:\n",
    "            days_in_month = 28\n",
    "    elif month in (1, 3, 5, 7, 8, 10, 12):\n",
    "        days_in_month = 31\n",
    "    else:\n",
    "        days_in_month = 30\n",
    "\n",
    "    print(f\"There are {days_in_month} days in {month}/{year}.\")"
   ]
  },
  {
   "cell_type": "code",
   "execution_count": 13,
   "id": "b469824a",
   "metadata": {},
   "outputs": [
    {
     "name": "stdout",
     "output_type": "stream",
     "text": [
      "enter the age:19\n",
      "enter the weight:45\n",
      "enter your activity level:very active\n",
      "Your daily calorie goal is: 3003.04 calories.\n"
     ]
    }
   ],
   "source": [
    "# Healty lifestyle:\n",
    "# 1) Calorie Counter:\n",
    "age=int(input(\"enter the age:\"))\n",
    "weight=int(input(\"enter the weight:\"))\n",
    "activity_level=input(\"enter your activity level:\")\n",
    "if age <= 3:\n",
    "    calorie_goal = 60 * weight\n",
    "elif 4 <= age <= 8:\n",
    "    calorie_goal = 90 * weight\n",
    "    calorie_goal = 655 + (9.6 * weight) + (1.8 * 1.73) - (4.7 * age)\n",
    "if activity_level == \"lightly active\":\n",
    "    calorie_goal *= 1.375\n",
    "elif activity_level == \"moderately active\":\n",
    "    calorie_goal *= 1.55\n",
    "elif activity_level == \"very active\":\n",
    "    calorie_goal *= 1.725\n",
    "\n",
    "print(f\"Your daily calorie goal is: {calorie_goal:.2f} calories.\")\n"
   ]
  }
 ],
 "metadata": {
  "kernelspec": {
   "display_name": "Python 3 (ipykernel)",
   "language": "python",
   "name": "python3"
  },
  "language_info": {
   "codemirror_mode": {
    "name": "ipython",
    "version": 3
   },
   "file_extension": ".py",
   "mimetype": "text/x-python",
   "name": "python",
   "nbconvert_exporter": "python",
   "pygments_lexer": "ipython3",
   "version": "3.11.5"
  }
 },
 "nbformat": 4,
 "nbformat_minor": 5
}
