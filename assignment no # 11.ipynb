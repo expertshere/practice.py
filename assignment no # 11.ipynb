{
 "cells": [
  {
   "cell_type": "code",
   "execution_count": 1,
   "id": "05686f83",
   "metadata": {},
   "outputs": [
    {
     "name": "stdout",
     "output_type": "stream",
     "text": [
      "Enter bedtime hour (0-23): 9\n",
      "Enter bedtime minute (0-59): 3\n",
      "Enter wake-up hour (0-23): 7\n",
      "Enter wake-up minute (0-59): 2\n",
      "Total sleep duration: 21 hours and 59 minutes\n",
      "You might be oversleeping. Try to wake up earlier and maintain a consistent sleep schedule.\n"
     ]
    }
   ],
   "source": [
    "  # sleep Tracker\n",
    "\n",
    "bedtime_hour = int(input(\"Enter bedtime hour (0-23): \"))\n",
    "bedtime_minute = int(input(\"Enter bedtime minute (0-59): \"))\n",
    "wake_up_hour = int(input(\"Enter wake-up hour (0-23): \"))\n",
    "wake_up_minute = int(input(\"Enter wake-up minute (0-59): \"))\n",
    "\n",
    "total_bedtime_minutes = bedtime_hour * 60 + bedtime_minute\n",
    "total_wake_up_minutes = wake_up_hour * 60 + wake_up_minute\n",
    "\n",
    "if total_wake_up_minutes >= total_bedtime_minutes:\n",
    "    total_sleep_minutes = total_wake_up_minutes - total_bedtime_minutes\n",
    "else:\n",
    "    total_sleep_minutes = (24 * 60 - total_bedtime_minutes) + total_wake_up_minutes\n",
    "\n",
    "print(f\"Total sleep duration: {total_sleep_minutes // 60} hours and {total_sleep_minutes % 60} minutes\")\n",
    "\n",
    "recommended_min_sleep = 7 * 60\n",
    "recommended_max_sleep = 9 * 60\n",
    "\n",
    "if total_sleep_minutes >= recommended_min_sleep and total_sleep_minutes <= recommended_max_sleep:\n",
    "    print(\"You've met the recommended sleep amount. Well done!\")\n",
    "elif total_sleep_minutes < recommended_min_sleep:\n",
    "    print(\"You should consider getting more sleep. Aim for at least 7 hours.\")\n",
    "else:\n",
    "    print(\"You might be oversleeping. Try to wake up earlier and maintain a consistent sleep schedule.\")"
   ]
  },
  {
   "cell_type": "code",
   "execution_count": 2,
   "id": "4913f09f",
   "metadata": {},
   "outputs": [
    {
     "name": "stdout",
     "output_type": "stream",
     "text": [
      "enter your weight:30\n",
      "enter the level of hydration:moderate\n",
      "you should take 1.05 liters of water\n"
     ]
    }
   ],
   "source": [
    "# Hyderation helper\n",
    "weight=int(input(\"enter your weight:\"))\n",
    "level_of_hydration=input(\"enter the level of hydration:\")\n",
    "if level_of_hydration == \"light\" :\n",
    "    water_intake = weight * 0.03\n",
    "    print(f\"you should take {water_intake} liters of water\")\n",
    "elif level_of_hydration == \"moderate\":\n",
    "    water_intake = weight * 0.035\n",
    "    print(f\"you should take {water_intake} liters of water\")\n",
    "elif level_of_hydration == \"intense exercise\":\n",
    "    water_intake = weight *0.04\n",
    "    print(f\"you should take {water_intake} liters of water\")\n",
    "else:\n",
    "    print(\"invalid hydration level\")"
   ]
  },
  {
   "cell_type": "code",
   "execution_count": 9,
   "id": "ec02a00b",
   "metadata": {},
   "outputs": [
    {
     "ename": "SyntaxError",
     "evalue": "invalid syntax (203284106.py, line 26)",
     "output_type": "error",
     "traceback": [
      "\u001b[1;36m  Cell \u001b[1;32mIn[9], line 26\u001b[1;36m\u001b[0m\n\u001b[1;33m    elif choice == '2':\u001b[0m\n\u001b[1;37m    ^\u001b[0m\n\u001b[1;31mSyntaxError\u001b[0m\u001b[1;31m:\u001b[0m invalid syntax\n"
     ]
    }
   ],
   "source": [
    "# Time Managment :\n",
    "# 1)  To_Do_List\n",
    "urgent_tasks = []\n",
    "important_tasks = []\n",
    "less_important_tasks = []\n",
    "while True:\n",
    "    print(\"1. Add Task\")\n",
    "    print(\"2. Display Tasks\")\n",
    "    print(\"3. Exit\")\n",
    "\n",
    "    choice = input(\"Enter your choice: \")\n",
    "\n",
    "    if choice == '1':\n",
    "        task = input(\"Enter task name: \")\n",
    "        due_date = input(\"Enter due date (YYYY-MM-DD): \")\n",
    "        priority = input(\"Enter priority (urgent/important/less important): \")\n",
    "        if priority == 'urgent':\n",
    "            urgent_tasks.append((task, due_date))\n",
    "        elif priority == 'important':\n",
    "            important_tasks.append((task, due_date))\n",
    "        else:\n",
    "            less_important_tasks.append((task, due_date))\n",
    "        \n",
    "        print(\"Task added successfully!\")\n",
    "        \n",
    "        elif choice == '2':\n",
    "        print(\"Urgent Tasks:\")\n",
    "        for task, due_date in urgent_tasks:\n",
    "            print(f\"- {task} (Due: {due_date})\")\n",
    "        \n",
    "        print(\"Important Tasks:\")\n",
    "        for task, due_date in important_tasks:\n",
    "            print(f\"- {task} (Due: {due_date})\")\n",
    "        \n",
    "        print(\"Less Important Tasks:\")\n",
    "        for task, due_date in less_important_tasks:\n",
    "            print(f\"- {task} (Due: {due_date})\")\n",
    "    \n",
    "    elif choice == '3':\n",
    "        print(\"Exiting program...\")\n",
    "        break\n",
    "    \n",
    "    else:\n",
    "        print(\"Invalid choice. Please try again.\")"
   ]
  },
  {
   "cell_type": "code",
   "execution_count": 10,
   "id": "e12b849d",
   "metadata": {},
   "outputs": [
    {
     "name": "stdout",
     "output_type": "stream",
     "text": [
      "1. Add Task\n",
      "2. Display Tasks\n",
      "3. Exit\n",
      "Enter your choice: 2\n",
      "Urgent Tasks:\n",
      "Important Tasks:\n",
      "Less Important Tasks:\n",
      "1. Add Task\n",
      "2. Display Tasks\n",
      "3. Exit\n",
      "Enter your choice: 1\n",
      "Enter task name: urgent\n",
      "Enter due date (YYYY-MM-DD): 2023-04\n",
      "Enter priority (urgent/important/less important): urgent\n",
      "Task added successfully!\n",
      "1. Add Task\n",
      "2. Display Tasks\n",
      "3. Exit\n",
      "Enter your choice: 3\n",
      "Exiting program...\n"
     ]
    }
   ],
   "source": [
    "# Time Managment :\n",
    "# 1)  To_Do_List\n",
    "urgent_tasks = []\n",
    "important_tasks = []\n",
    "less_important_tasks = []\n",
    "while True:\n",
    "    print(\"1. Add Task\")\n",
    "    print(\"2. Display Tasks\")\n",
    "    print(\"3. Exit\")\n",
    "\n",
    "    choice = input(\"Enter your choice: \")\n",
    "\n",
    "    if choice == '1':\n",
    "        task = input(\"Enter task name: \")\n",
    "        due_date = input(\"Enter due date (YYYY-MM-DD): \")\n",
    "        priority = input(\"Enter priority (urgent/important/less important): \")\n",
    "        if priority == 'urgent':\n",
    "            urgent_tasks.append((task, due_date))\n",
    "        elif priority == 'important':\n",
    "            important_tasks.append((task, due_date))\n",
    "        else:\n",
    "            less_important_tasks.append((task, due_date))\n",
    "        \n",
    "        print(\"Task added successfully!\")\n",
    "    \n",
    "    elif choice == '2':\n",
    "       \n",
    "        print(\"Urgent Tasks:\")\n",
    "        for task, due_date in urgent_tasks:\n",
    "            print(f\"- {task} (Due: {due_date})\")\n",
    "        \n",
    "        print(\"Important Tasks:\")\n",
    "        for task, due_date in important_tasks:\n",
    "            print(f\"- {task} (Due: {due_date})\")\n",
    "        \n",
    "        print(\"Less Important Tasks:\")\n",
    "        for task, due_date in less_important_tasks:\n",
    "            print(f\"- {task} (Due: {due_date})\")\n",
    "    \n",
    "    elif choice == '3':\n",
    "        print(\"Exiting program...\")\n",
    "        break\n",
    "    \n",
    "    else:\n",
    "        print(\"Invalid choice. Please try again.\")"
   ]
  },
  {
   "cell_type": "code",
   "execution_count": null,
   "id": "b2014610",
   "metadata": {},
   "outputs": [],
   "source": [
    "# Pomodoro Timer\n",
    "WORK_DURATION = 25 * 60  \n",
    "BREAK_DURATION = 5 * 60   \n",
    "cycle_count = 0\n",
    "while True:\n",
    "    cycle_count += 1\n",
    "    \n",
    "    print(f\"Cycle {cycle_count}: Work for 2 minutes.\")\n",
    "    work_time = WORK_DURATION\n",
    "    while work_time > 0:\n",
    "        mins, secs = divmod(work_time, 60)\n",
    "        print(f\"Time remaining: {mins:02d}:{secs:02d}\", end=\"\")\n",
    "        work_time -= 1\n",
    "        for _ in range(2):  \n",
    "            pass\n",
    "    print(\"Take a 5-minute break.\")\n",
    "    break_time = BREAK_DURATION\n",
    "    while break_time > 0:\n",
    "        mins, secs = divmod(break_time, 60)\n",
    "        print(f\"Time remaining: {mins:02d}:{secs:02d}\", end=\"\")\n",
    "        break_time -= 1\n",
    "        for _ in range(5):  \n",
    "            pass"
   ]
  },
  {
   "cell_type": "code",
   "execution_count": 1,
   "id": "4305bb73",
   "metadata": {},
   "outputs": [
    {
     "name": "stdout",
     "output_type": "stream",
     "text": [
      "Common meeting times:\n",
      "06:00-07:00\n",
      "07:00-08:00\n",
      "08:00-09:00\n",
      "09:00-10:00\n",
      "10:00-11:00\n",
      "11:00-12:00\n",
      "12:00-13:00\n",
      "13:00-14:00\n",
      "14:00-15:00\n",
      "15:00-16:00\n"
     ]
    }
   ],
   "source": [
    "# Meeting sheduler\n",
    "user1_calendar = [\"08:00-09:30\", \"10:00-11:30\", \"13:00-14:30\", \"15:00-16:30\"]\n",
    "user2_calendar = [\"09:00-10:30\", \"11:00-12:30\", \"13:30-15:00\", \"16:00-17:30\"]\n",
    "user3_calendar = [\"08:30-10:00\", \"10:30-12:00\", \"13:00-14:30\", \"15:30-17:00\"]\n",
    "\n",
    "common_meeting_times = []\n",
    "\n",
    "for hour in range(6, 16):\n",
    "    time_slot = f\"{hour:02d}:00-{hour+1:02d}:00\"\n",
    "    available = True\n",
    "    for event in user1_calendar + user2_calendar + user3_calendar:\n",
    "        if time_slot in event:\n",
    "            available = False\n",
    "            break\n",
    "    if available:\n",
    "        common_meeting_times.append(time_slot)\n",
    "\n",
    "if common_meeting_times:\n",
    "    print(\"Common meeting times:\")\n",
    "    for time_slot in common_meeting_times:\n",
    "        print(time_slot)\n",
    "else:\n",
    "    print(\"No common meeting times available.\")"
   ]
  },
  {
   "cell_type": "code",
   "execution_count": 2,
   "id": "efba7fdb",
   "metadata": {},
   "outputs": [
    {
     "name": "stdout",
     "output_type": "stream",
     "text": [
      "enter the num1:5\n",
      "enter the num2:8\n",
      "enter the operator:+\n",
      "13\n"
     ]
    }
   ],
   "source": [
    "# Bonus Challenge :\n",
    "# Qno2 \n",
    "# simple Calculator\n",
    "\n",
    "num1=int(input('enter the num1:'))\n",
    "num2=int(input(\"enter the num2:\"))\n",
    "opt=input(\"enter the operator:\")\n",
    "if opt ==\"+\":\n",
    "    print(num1 + num2)\n",
    "elif opt == \"-\":\n",
    "    print(num1 - num2)\n",
    "elif opt == \"*\":\n",
    "    print(num1 * num2)\n",
    "elif opt == \"/\":\n",
    "    print(num1 / num2)\n",
    "else:\n",
    "    print(\"invalid operation\")"
   ]
  },
  {
   "cell_type": "code",
   "execution_count": null,
   "id": "380c1089",
   "metadata": {},
   "outputs": [],
   "source": []
  }
 ],
 "metadata": {
  "kernelspec": {
   "display_name": "Python 3 (ipykernel)",
   "language": "python",
   "name": "python3"
  },
  "language_info": {
   "codemirror_mode": {
    "name": "ipython",
    "version": 3
   },
   "file_extension": ".py",
   "mimetype": "text/x-python",
   "name": "python",
   "nbconvert_exporter": "python",
   "pygments_lexer": "ipython3",
   "version": "3.11.5"
  }
 },
 "nbformat": 4,
 "nbformat_minor": 5
}
